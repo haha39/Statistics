{
  "nbformat": 4,
  "nbformat_minor": 0,
  "metadata": {
    "colab": {
      "provenance": []
    },
    "kernelspec": {
      "name": "python3",
      "display_name": "Python 3"
    },
    "language_info": {
      "name": "python"
    }
  },
  "cells": [
    {
      "cell_type": "markdown",
      "source": [
        "**第九題**"
      ],
      "metadata": {
        "id": "mfl6lVObl84Y"
      }
    },
    {
      "cell_type": "code",
      "execution_count": null,
      "metadata": {
        "colab": {
          "base_uri": "https://localhost:8080/",
          "height": 265
        },
        "id": "ePQVBdU4hrbq",
        "outputId": "b9f8c751-332c-408c-a4aa-9d66e475ef49"
      },
      "outputs": [
        {
          "output_type": "display_data",
          "data": {
            "text/plain": [
              "<Figure size 432x288 with 1 Axes>"
            ],
            "image/png": "[encoded data removed]"
          },
          "metadata": {
            "needs_background": "light"
          }
        }
      ],
      "source": [
        "import matplotlib.pyplot as plt\n",
        "\n",
        "x = [-22, -33, 2, 29, -13, 21, -13, -23, 14,\n",
        "     3, -37, 34, 9, -33, 20, -3, -15, 12, -20, -7]\n",
        "y = [22, 49, 8, -16, 10, -28, 27, 35, -5, -3,\n",
        "     48, -29, -18, 31, -16, 14, 18, 17, -11, -22]\n",
        "\n",
        "plt.scatter(x, y)\n",
        "plt.show()\n"
      ]
    },
    {
      "cell_type": "markdown",
      "source": [
        "**第十二題**"
      ],
      "metadata": {
        "id": "n0vW-wDcl_0b"
      }
    },
    {
      "cell_type": "markdown",
      "source": [
        "(a)"
      ],
      "metadata": {
        "id": "6mlS9OexryFp"
      }
    },
    {
      "cell_type": "code",
      "source": [
        "import numpy as np\n",
        "from scipy import stats\n",
        "\n",
        "a = [42, 66, 67, 71, 78,\t62,\t61,\t76,\t71,\t67,\n",
        "61,\t64,\t61,\t54,\t83,\t63,\t68,\t69,\t81,\t53]\n",
        "\n",
        "x = np.mean(a)\n",
        "print(\"mean : %f\"%x)\n",
        "\n",
        "x = np.median(a)\n",
        "print(\"median : %f\"%x)\n",
        "\n"
      ],
      "metadata": {
        "colab": {
          "base_uri": "https://localhost:8080/"
        },
        "id": "erT39mb9mBaI",
        "outputId": "014fe0d7-4706-4f5c-b745-657a32ba8852"
      },
      "execution_count": null,
      "outputs": [
        {
          "output_type": "stream",
          "name": "stdout",
          "text": [
            "mean : 65.900000\n",
            "median : 66.500000\n"
          ]
        }
      ]
    },
    {
      "cell_type": "markdown",
      "source": [
        "(b)"
      ],
      "metadata": {
        "id": "i1QkkSputADA"
      }
    },
    {
      "cell_type": "code",
      "source": [
        "x = np.quantile(a, [0,0.25,0.5,0.75,1])\n",
        "print(x)\n",
        "\n",
        "# a.sort()\n",
        "\n",
        "# # First quartile (Q1)\n",
        "# Q1 = np.median(a[:10])\n",
        "  \n",
        "# # Third quartile (Q3)\n",
        "# Q3 = np.median(a[10:])\n",
        "  \n",
        "# # Interquartile range (IQR)\n",
        "# IQR = Q3 - Q1\n",
        "  \n",
        "# print(Q1)\n",
        "# print(Q3)\n",
        "# print(IQR)\n"
      ],
      "metadata": {
        "colab": {
          "base_uri": "https://localhost:8080/"
        },
        "id": "WKtdcMbOtBlf",
        "outputId": "b2ab47e3-e23d-4a3a-aa14-152556bdc4b2"
      },
      "execution_count": null,
      "outputs": [
        {
          "output_type": "stream",
          "name": "stdout",
          "text": [
            "[42.  61.  66.5 71.  83. ]\n",
            "61.0\n",
            "71.0\n",
            "10.0\n"
          ]
        }
      ]
    },
    {
      "cell_type": "markdown",
      "source": [
        "(c)"
      ],
      "metadata": {
        "id": "3FBAu5-Aty5y"
      }
    },
    {
      "cell_type": "code",
      "source": [
        "x = np.percentile(a, 65)\n",
        "print(x)\n"
      ],
      "metadata": {
        "colab": {
          "base_uri": "https://localhost:8080/"
        },
        "id": "NUYXKjBItz6Y",
        "outputId": "94aaf1aa-360a-4a91-d7ab-2077c4ec0dc2"
      },
      "execution_count": null,
      "outputs": [
        {
          "output_type": "stream",
          "name": "stdout",
          "text": [
            "68.35\n"
          ]
        }
      ]
    },
    {
      "cell_type": "markdown",
      "source": [
        "**第十三題**"
      ],
      "metadata": {
        "id": "NM0rL2Xpwi4D"
      }
    },
    {
      "cell_type": "code",
      "source": [
        "data = [27, 25, 20, 15, 30, 34, 28, 25]\n",
        "\n",
        "data.sort()\n",
        "print(data)\n",
        "\n",
        "# First quartile (Q1)\n",
        "Q1 = np.percentile(data, 25)\n",
        "  \n",
        "# Third quartile (Q3)\n",
        "Q3 = np.percentile(data, 75)\n",
        "  \n",
        "# Interquartile range (IQR)\n",
        "IQR = Q3 - Q1\n",
        "  \n",
        "print(Q1)\n",
        "print(Q3)\n",
        "print(IQR)\n",
        "\n",
        "x = np.quantile(data, [0,0.25,0.5,0.75,1])\n",
        "print(x[3] - x[1])"
      ],
      "metadata": {
        "colab": {
          "base_uri": "https://localhost:8080/"
        },
        "id": "r_C5EMJuwl5E",
        "outputId": "59c2c4a8-3c2a-45cb-a19a-d8ac06a1f499"
      },
      "execution_count": null,
      "outputs": [
        {
          "output_type": "stream",
          "name": "stdout",
          "text": [
            "[15, 20, 25, 25, 27, 28, 30, 34]\n",
            "23.75\n",
            "28.5\n",
            "4.75\n",
            "4.75\n"
          ]
        }
      ]
    },
    {
      "cell_type": "code",
      "source": [
        "#variance\n",
        "\n",
        "var = np.var(data)\n",
        "print(var)"
      ],
      "metadata": {
        "colab": {
          "base_uri": "https://localhost:8080/"
        },
        "id": "TNR6IPeTzzLJ",
        "outputId": "1e5b9529-7445-4266-cad9-bd609fadac09"
      },
      "execution_count": null,
      "outputs": [
        {
          "output_type": "stream",
          "name": "stdout",
          "text": [
            "30.25\n"
          ]
        }
      ]
    },
    {
      "cell_type": "code",
      "source": [
        "# Import statistics Library\n",
        "import statistics\n",
        "\n",
        "print(statistics.stdev(data))"
      ],
      "metadata": {
        "colab": {
          "base_uri": "https://localhost:8080/"
        },
        "id": "HefBCWIh1X3e",
        "outputId": "60fac906-6bb7-4322-89a6-693bd7e7d940"
      },
      "execution_count": null,
      "outputs": [
        {
          "output_type": "stream",
          "name": "stdout",
          "text": [
            "5.879747322073336\n"
          ]
        }
      ]
    },
    {
      "cell_type": "markdown",
      "source": [],
      "metadata": {
        "id": "ntlQ483f1nOU"
      }
    },
    {
      "cell_type": "markdown",
      "source": [
        "**第十四題**"
      ],
      "metadata": {
        "id": "2bUeq0YJ1ni9"
      }
    },
    {
      "cell_type": "code",
      "source": [
        "a = [11, 10, 9, 10, 11, 11, 10, 11, 10, 10]\n",
        "b = [8, 10, 13, 7, 10, 11, 10, 7, 15, 12]\n",
        "\n",
        "a.sort()\n",
        "b.sort()\n",
        "\n",
        "rangeA = a[9] - a[0]\n",
        "rangeB = b[9] - b[0]\n",
        "\n",
        "stdA = statistics.stdev(a)\n",
        "stdB = statistics.stdev(b)\n",
        "\n",
        "print(\"rangeA : %d\"% rangeA)\n",
        "print(\"stdA : %f\"% stdA)\n",
        "print(\"rangeB : %d\"% rangeB)\n",
        "print(\"stdB : %f\"% stdB)\n"
      ],
      "metadata": {
        "colab": {
          "base_uri": "https://localhost:8080/"
        },
        "id": "AvDzgnBF1p0e",
        "outputId": "3d1607ba-0082-43bf-8abe-ca4e452ae86f"
      },
      "execution_count": null,
      "outputs": [
        {
          "output_type": "stream",
          "name": "stdout",
          "text": [
            "rangeA : 2\n",
            "stdA : 0.674949\n",
            "rangeB : 8\n",
            "stdB : 2.584140\n"
          ]
        }
      ]
    }
  ]
}