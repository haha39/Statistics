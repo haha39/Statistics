{
  "nbformat": 4,
  "nbformat_minor": 0,
  "metadata": {
    "colab": {
      "provenance": []
    },
    "kernelspec": {
      "name": "python3",
      "display_name": "Python 3"
    },
    "language_info": {
      "name": "python"
    }
  },
  "cells": [
    {
      "cell_type": "code",
      "source": [
        "import statistics\n",
        "import matplotlib.pyplot as plt\n",
        "import numpy as np\n",
        "from scipy import stats\n",
        "import plotly.express as px"
      ],
      "metadata": {
        "id": "CSo76d7Rgk7A"
      },
      "execution_count": null,
      "outputs": []
    },
    {
      "cell_type": "markdown",
      "source": [
        "**第九題**"
      ],
      "metadata": {
        "id": "mfl6lVObl84Y"
      }
    },
    {
      "cell_type": "code",
      "execution_count": null,
      "metadata": {
        "colab": {
          "base_uri": "https://localhost:8080/",
          "height": 265
        },
        "id": "ePQVBdU4hrbq",
        "outputId": "b9f8c751-332c-408c-a4aa-9d66e475ef49"
      },
      "outputs": [
        {
          "output_type": "display_data",
          "data": {
            "text/plain": [
              "<Figure size 432x288 with 1 Axes>"
            ],
            "image/png": "[encoded data removed]"
          },
          "metadata": {
            "needs_background": "light"
          }
        }
      ],
      "source": [
        "import matplotlib.pyplot as plt\n",
        "\n",
        "x = [-22, -33, 2, 29, -13, 21, -13, -23, 14,\n",
        "     3, -37, 34, 9, -33, 20, -3, -15, 12, -20, -7]\n",
        "y = [22, 49, 8, -16, 10, -28, 27, 35, -5, -3,\n",
        "     48, -29, -18, 31, -16, 14, 18, 17, -11, -22]\n",
        "\n",
        "plt.scatter(x, y)\n",
        "plt.show()\n"
      ]
    },
    {
      "cell_type": "markdown",
      "source": [
        "**第十二題**"
      ],
      "metadata": {
        "id": "n0vW-wDcl_0b"
      }
    },
    {
      "cell_type": "markdown",
      "source": [
        "(a)"
      ],
      "metadata": {
        "id": "6mlS9OexryFp"
      }
    },
    {
      "cell_type": "code",
      "source": [
        "import numpy as np\n",
        "from scipy import stats\n",
        "\n",
        "a = [42, 66, 67, 71, 78,\t62,\t61,\t76,\t71,\t67,\n",
        "61,\t64,\t61,\t54,\t83,\t63,\t68,\t69,\t81,\t53]\n",
        "\n",
        "a.sort()\n",
        "\n",
        "x = np.mean(a)\n",
        "print(\"mean : %f\"%x)\n",
        "\n",
        "x = np.median(a)\n",
        "print(\"median : %f\"%x)\n",
        "\n"
      ],
      "metadata": {
        "colab": {
          "base_uri": "https://localhost:8080/"
        },
        "id": "erT39mb9mBaI",
        "outputId": "f7448466-2fc1-4735-b5f5-343130a3f5b8"
      },
      "execution_count": null,
      "outputs": [
        {
          "output_type": "stream",
          "name": "stdout",
          "text": [
            "mean : 65.900000\n",
            "median : 66.500000\n"
          ]
        }
      ]
    },
    {
      "cell_type": "markdown",
      "source": [
        "(b)"
      ],
      "metadata": {
        "id": "i1QkkSputADA"
      }
    },
    {
      "cell_type": "code",
      "source": [
        "x = np.quantile(a, [0,0.25,0.5,0.75,1])\n",
        "print(x)\n",
        "\n",
        "# a.sort()\n",
        "\n",
        "# # First quartile (Q1)\n",
        "# Q1 = np.median(a[:10])\n",
        "  \n",
        "# # Third quartile (Q3)\n",
        "# Q3 = np.median(a[10:])\n",
        "  \n",
        "# # Interquartile range (IQR)\n",
        "# IQR = Q3 - Q1\n",
        "  \n",
        "# print(Q1)\n",
        "# print(Q3)\n",
        "# print(IQR)\n"
      ],
      "metadata": {
        "colab": {
          "base_uri": "https://localhost:8080/"
        },
        "id": "WKtdcMbOtBlf",
        "outputId": "327834f6-15f1-417a-9979-adcb9a11dab1"
      },
      "execution_count": null,
      "outputs": [
        {
          "output_type": "stream",
          "name": "stdout",
          "text": [
            "[42.  61.  66.5 71.  83. ]\n"
          ]
        }
      ]
    },
    {
      "cell_type": "markdown",
      "source": [
        "(c)"
      ],
      "metadata": {
        "id": "3FBAu5-Aty5y"
      }
    },
    {
      "cell_type": "code",
      "source": [
        "x = np.percentile(a, 90)\n",
        "print(x)\n"
      ],
      "metadata": {
        "colab": {
          "base_uri": "https://localhost:8080/"
        },
        "id": "NUYXKjBItz6Y",
        "outputId": "3875eb7a-06ea-49f0-847c-045ea822abfb"
      },
      "execution_count": null,
      "outputs": [
        {
          "output_type": "stream",
          "name": "stdout",
          "text": [
            "78.30000000000001\n"
          ]
        }
      ]
    },
    {
      "cell_type": "markdown",
      "source": [
        "**第十三題**"
      ],
      "metadata": {
        "id": "NM0rL2Xpwi4D"
      }
    },
    {
      "cell_type": "code",
      "source": [
        "data = [27, 25, 20, 15, 30, 34, 28, 25]\n",
        "\n",
        "data.sort()\n",
        "print(data)\n",
        "\n",
        "# First quartile (Q1)\n",
        "Q1 = np.percentile(data, 25)\n",
        "  \n",
        "# Third quartile (Q3)\n",
        "Q3 = np.percentile(data, 75)\n",
        "  \n",
        "# Interquartile range (IQR)\n",
        "IQR = Q3 - Q1\n",
        "  \n",
        "print(\"Q1 = %f, Q3 = %f, IQR = Q3 - Q1 = %f\" %(Q1, Q3, IQR))\n",
        "print(IQR)\n",
        "\n",
        "x = np.quantile(data, [0,0.25,0.5,0.75,1])\n",
        "print(x[3] - x[1])"
      ],
      "metadata": {
        "colab": {
          "base_uri": "https://localhost:8080/"
        },
        "id": "r_C5EMJuwl5E",
        "outputId": "09c86748-49fb-4c01-e64b-ca01d4e7224e"
      },
      "execution_count": null,
      "outputs": [
        {
          "output_type": "stream",
          "name": "stdout",
          "text": [
            "[15, 20, 25, 25, 27, 28, 30, 34]\n",
            "Q1 = 23.750000, Q3 = 28.500000, IQR = Q3 - Q1 = 4.750000\n",
            "4.75\n",
            "4.75\n"
          ]
        }
      ]
    },
    {
      "cell_type": "code",
      "source": [
        "#variance\n",
        "\n",
        "var = np.var(data)\n",
        "print(var)"
      ],
      "metadata": {
        "colab": {
          "base_uri": "https://localhost:8080/"
        },
        "id": "TNR6IPeTzzLJ",
        "outputId": "1e5b9529-7445-4266-cad9-bd609fadac09"
      },
      "execution_count": null,
      "outputs": [
        {
          "output_type": "stream",
          "name": "stdout",
          "text": [
            "30.25\n"
          ]
        }
      ]
    },
    {
      "cell_type": "code",
      "source": [
        "# Import statistics Library\n",
        "import statistics\n",
        "\n",
        "print(statistics.stdev(data))"
      ],
      "metadata": {
        "colab": {
          "base_uri": "https://localhost:8080/"
        },
        "id": "HefBCWIh1X3e",
        "outputId": "60fac906-6bb7-4322-89a6-693bd7e7d940"
      },
      "execution_count": null,
      "outputs": [
        {
          "output_type": "stream",
          "name": "stdout",
          "text": [
            "5.879747322073336\n"
          ]
        }
      ]
    },
    {
      "cell_type": "markdown",
      "source": [],
      "metadata": {
        "id": "ntlQ483f1nOU"
      }
    },
    {
      "cell_type": "markdown",
      "source": [
        "**第十四題**"
      ],
      "metadata": {
        "id": "2bUeq0YJ1ni9"
      }
    },
    {
      "cell_type": "code",
      "source": [
        "a = [11, 10, 9, 10, 11, 11, 10, 11, 10, 10]\n",
        "b = [8, 10, 13, 7, 10, 11, 10, 7, 15, 12]\n",
        "\n",
        "a.sort()\n",
        "b.sort()\n",
        "\n",
        "rangeA = a[9] - a[0]\n",
        "rangeB = b[9] - b[0]\n",
        "\n",
        "stdA = statistics.stdev(a)\n",
        "stdB = statistics.stdev(b)\n",
        "\n",
        "print(\"range of Dawson Suppl : %d\"% rangeA)\n",
        "print(\"std of Dawson Suppl : %f\"% stdA)\n",
        "print(\"range of Clark Distributors : %d\"% rangeB)\n",
        "print(\"std of Clark Distributors : %f\"% stdB)\n"
      ],
      "metadata": {
        "colab": {
          "base_uri": "https://localhost:8080/"
        },
        "id": "AvDzgnBF1p0e",
        "outputId": "7ba44fea-f5fd-4bad-a1b2-bf9faf8c4eda"
      },
      "execution_count": null,
      "outputs": [
        {
          "output_type": "stream",
          "name": "stdout",
          "text": [
            "range of Dawson Suppl : 2\n",
            "std of Dawson Suppl : 0.674949\n",
            "range of Clark Distributors : 8\n",
            "std of Clark Distributors : 2.584140\n"
          ]
        }
      ]
    },
    {
      "cell_type": "markdown",
      "source": [
        "**第十六題**"
      ],
      "metadata": {
        "id": "FZ8QZTl6gXRK"
      }
    },
    {
      "cell_type": "code",
      "source": [
        "fare_data_sample = [520, 650, 500, 450, 280]\n",
        "\n",
        "#所有Fare的算術平均數\n",
        "mu = 500\n",
        "#標準差\n",
        "std = 100\n",
        "#標準化後之結果\n",
        "for i in range(5):\n",
        "  z_score_normalized = (fare_data_sample[i] - mu) / std\n",
        "  print(z_score_normalized)\n",
        "\n"
      ],
      "metadata": {
        "colab": {
          "base_uri": "https://localhost:8080/"
        },
        "id": "KSI_AJrXgZMY",
        "outputId": "dfe614b6-4eab-48f4-e1bc-5baadc952c0d"
      },
      "execution_count": null,
      "outputs": [
        {
          "output_type": "stream",
          "name": "stdout",
          "text": [
            "0.2\n",
            "1.5\n",
            "0.0\n",
            "-0.5\n",
            "-2.2\n"
          ]
        }
      ]
    },
    {
      "cell_type": "markdown",
      "source": [
        "**第十七題**"
      ],
      "metadata": {
        "id": "ihTrERDuhhlI"
      }
    },
    {
      "cell_type": "markdown",
      "source": [
        "(a)"
      ],
      "metadata": {
        "id": "0eXw6YnAib9W"
      }
    },
    {
      "cell_type": "code",
      "source": [
        "data17 = [15, 22, 12, 21, 26, 18, 42, 29, 64, 20, 15, 22, 18, 24, 27, 24, 26, 19]\n",
        "\n",
        "data17.sort()\n",
        "print(data17)\n",
        "\n",
        "mean17 = np.mean(data17)\n",
        "print(\"mean : %f\" %mean17)\n",
        "\n",
        "med17 = np.median(data17)\n",
        "print(\"median : %f\" %med17)\n",
        "\n"
      ],
      "metadata": {
        "colab": {
          "base_uri": "https://localhost:8080/"
        },
        "id": "trUoxlSahk-M",
        "outputId": "f17fe87f-d543-401e-af8b-1b985ee2d3f4"
      },
      "execution_count": null,
      "outputs": [
        {
          "output_type": "stream",
          "name": "stdout",
          "text": [
            "[12, 15, 15, 18, 18, 19, 20, 21, 22, 22, 24, 24, 26, 26, 27, 29, 42, 64]\n",
            "mean : 24.666667\n",
            "median : 22.000000\n"
          ]
        }
      ]
    },
    {
      "cell_type": "markdown",
      "source": [
        "(b)"
      ],
      "metadata": {
        "id": "f-3bgnXHid0c"
      }
    },
    {
      "cell_type": "code",
      "source": [
        "# First quartile (Q1)\n",
        "Q1 = np.percentile(data17, 25)\n",
        "  \n",
        "# Third quartile (Q3)\n",
        "Q3 = np.percentile(data17, 75)\n",
        "\n",
        "print(\"Q1 : %f\" %Q1)\n",
        "print(\"Q3 : %f\" %Q3)\n",
        "\n",
        "#solution2\n",
        "x = np.quantile(data17, [0,0.25,0.5,0.75,1])\n",
        "\n",
        "print(\"Q1 : %f\" %x[1])\n",
        "print(\"Q3 : %f\" %x[3])"
      ],
      "metadata": {
        "colab": {
          "base_uri": "https://localhost:8080/"
        },
        "id": "mO9y98YFifT-",
        "outputId": "1358dd2a-8013-4246-8923-5e1bb8af2d26"
      },
      "execution_count": null,
      "outputs": [
        {
          "output_type": "stream",
          "name": "stdout",
          "text": [
            "Q1 : 18.250000\n",
            "Q3 : 26.000000\n",
            "Q1 : 18.250000\n",
            "Q3 : 26.000000\n"
          ]
        }
      ]
    },
    {
      "cell_type": "markdown",
      "source": [
        "(c)"
      ],
      "metadata": {
        "id": "K2fxFGmPkE7P"
      }
    },
    {
      "cell_type": "code",
      "source": [
        "len_data17 = len(data17)\n",
        "print(len_data17)\n",
        "\n",
        "range17 = data17[len_data17-1] - data17[0]\n",
        "print(\"range = %d\" %range17)\n",
        "\n",
        "IQR17 = Q3 - Q1\n",
        "print(\"interquartile range = %f\" %IQR17)\n"
      ],
      "metadata": {
        "colab": {
          "base_uri": "https://localhost:8080/"
        },
        "id": "9FV83og2kF6R",
        "outputId": "c814dadd-41ac-477d-b04b-7cff65bd233b"
      },
      "execution_count": null,
      "outputs": [
        {
          "output_type": "stream",
          "name": "stdout",
          "text": [
            "18\n",
            "range = 52\n",
            "interquartile range = 7.750000\n"
          ]
        }
      ]
    },
    {
      "cell_type": "markdown",
      "source": [
        "d"
      ],
      "metadata": {
        "id": "CUtiGfD8l4ZG"
      }
    },
    {
      "cell_type": "code",
      "source": [
        "#variance \n",
        "var17 = np.var(data17)\n",
        "print(\"variance : %f\" %var17)\n",
        "\n",
        "#standard deviation\n",
        "std17 = statistics.stdev(data17)\n",
        "print(\"STD : %f\" %std17)\n"
      ],
      "metadata": {
        "colab": {
          "base_uri": "https://localhost:8080/"
        },
        "id": "i0P-Sgghl4GA",
        "outputId": "851ee1ae-9f12-4b18-b628-9121cd47ef1f"
      },
      "execution_count": null,
      "outputs": [
        {
          "output_type": "stream",
          "name": "stdout",
          "text": [
            "variance : 133.000000\n",
            "STD : 11.866909\n"
          ]
        }
      ]
    },
    {
      "cell_type": "markdown",
      "source": [
        "e"
      ],
      "metadata": {
        "id": "PXEN3RN5oDqN"
      }
    },
    {
      "cell_type": "code",
      "source": [
        "\n",
        "\n",
        "for i in range(len_data17):\n",
        "  z_data17 = (data17[i] - mean17) / std17\n",
        "  if z_data17 > 3 or z_data17 < -3:\n",
        "    print(data17[i])\n",
        "\n"
      ],
      "metadata": {
        "colab": {
          "base_uri": "https://localhost:8080/"
        },
        "id": "KVxeFL8SoDVq",
        "outputId": "02bf321f-8dfd-4bd7-b265-ee4a57f30d38"
      },
      "execution_count": null,
      "outputs": [
        {
          "output_type": "stream",
          "name": "stdout",
          "text": [
            "64\n"
          ]
        }
      ]
    },
    {
      "cell_type": "markdown",
      "source": [
        "**第十八題**"
      ],
      "metadata": {
        "id": "vlunbBWfuPMB"
      }
    },
    {
      "cell_type": "code",
      "source": [
        "import plotly.express as px\n",
        "import matplotlib.pyplot as plt\n",
        "\n",
        "data18 = [ 27, 25, 20, 15, 30, 34, 28, 25]\n",
        "\n",
        "#solution3\n",
        "data18.sort()\n",
        "print(\"data18\")\n",
        "print(data18)\n",
        "\n",
        "x = np.quantile(data18, [0,0.25,0.5,0.75,1])\n",
        "print(\"five-number summary\")\n",
        "print(x)\n",
        "\n",
        "fig = plt.figure(figsize =(10, 7))\n",
        " \n",
        "# Creating plot\n",
        "plt.boxplot(data18, vert = 0)\n",
        " \n",
        "# show plot\n",
        "plt.show()"
      ],
      "metadata": {
        "colab": {
          "base_uri": "https://localhost:8080/",
          "height": 497
        },
        "id": "CrLAA2C8uR9z",
        "outputId": "15612313-5e1f-45e1-cbe8-242c203a745a"
      },
      "execution_count": null,
      "outputs": [
        {
          "output_type": "stream",
          "name": "stdout",
          "text": [
            "data18\n",
            "[15, 20, 25, 25, 27, 28, 30, 34]\n",
            "five-number summary\n",
            "[15.   23.75 26.   28.5  34.  ]\n"
          ]
        },
        {
          "output_type": "display_data",
          "data": {
            "text/plain": [
              "<Figure size 720x504 with 1 Axes>"
            ],
            "image/png": "[encoded data removed]"
          },
          "metadata": {
            "needs_background": "light"
          }
        }
      ]
    },
    {
      "cell_type": "markdown",
      "source": [
        "**第二十題**"
      ],
      "metadata": {
        "id": "jmn8y4DSQhlf"
      }
    },
    {
      "cell_type": "code",
      "source": [
        "men = [65.30, 66.27, 66.52, 66.85, 70.87, 87.18, 96.45, 98.52, 100.52, 108.18, 109.05, 110.23, 112.90, 113.52, 120.95, 127.98, 128.40, 130.90, 131.80, 138.63, 143.83, 148.70]\n",
        "women = [109.03, 111.22, 111.65, 111.93, 114.38, 118.33, 121.25, 122.08, 122.48, 122.62, 123.88, 125.78, 129.52, 129.87, 130.72, 131.67, 132.03, 133.20, 133.50, 136.57, 136.75, 138.20, 139.00, 147.18, 147.35, 147.50, 147.75, 153.88, 154.83, 189.27, 189.28]\n",
        "\n",
        "a = np.quantile(men, [0,0.25,0.5,0.75,1])\n",
        "b = np.quantile(women, [0,0.25,0.5,0.75,1])\n",
        "\n",
        "print(\"men :\")\n",
        "print(a)\n",
        "print(\"women :\")\n",
        "print(b)\n",
        "\n",
        "\n",
        "\n",
        "\n",
        "#d\n",
        "print(\"d start\")\n",
        "meanM = np.mean(men)\n",
        "stdM = statistics.stdev(men)\n",
        "for i in range(len(men)):\n",
        "  z_men = (men[i] - meanM) / stdM\n",
        "  if z_men > 3 or z_men < -3:\n",
        "    print(men[i])\n",
        "\n",
        "\n",
        "\n",
        "meanW = np.mean(women)\n",
        "stdW = statistics.stdev(women)\n",
        "for i in range(len(women)):\n",
        "  z_women = (women[i] - meanW) / stdW\n",
        "  if z_women > 3 or z_women < -3:\n",
        "    print(women[i])\n",
        "\n",
        "print(\"d end\")\n",
        "\n",
        "\n",
        "#e\n",
        "data20 = [men, women]\n",
        " \n",
        "fig = plt.figure(figsize =(10, 7))\n",
        " \n",
        "# Creating axes instance\n",
        "ax = fig.add_axes([0, 0, 1, 1])\n",
        " \n",
        "# Creating plot\n",
        "bp = ax.boxplot(data20, vert = 0)\n",
        " \n",
        "# show plot\n",
        "plt.show()\n"
      ],
      "metadata": {
        "colab": {
          "base_uri": "https://localhost:8080/",
          "height": 583
        },
        "id": "PPo4gOubQkE-",
        "outputId": "08847aee-c2e2-454c-a535-f4020484cf65"
      },
      "execution_count": null,
      "outputs": [
        {
          "output_type": "stream",
          "name": "stdout",
          "text": [
            "men :\n",
            "[ 65.3     89.4975 109.64   128.295  148.7   ]\n",
            "women :\n",
            "[109.03 122.28 131.67 143.09 189.28]\n",
            "d start\n",
            "d end\n"
          ]
        },
        {
          "output_type": "display_data",
          "data": {
            "text/plain": [
              "<Figure size 720x504 with 1 Axes>"
            ],
            "image/png": "[encoded data removed]"
          },
          "metadata": {
            "needs_background": "light"
          }
        }
      ]
    }
  ]
}